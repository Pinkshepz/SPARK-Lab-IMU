{
 "cells": [
  {
   "cell_type": "markdown",
   "metadata": {},
   "source": [
    "# **IMU > EDA > DATA INSIGHTS**\n",
    "\n",
    "### **Mission**\n",
    "- Find the overview structure of data\n",
    "- Evaluate quality of data\n",
    "- Calibrate data if there are any errors"
   ]
  },
  {
   "cell_type": "markdown",
   "metadata": {},
   "source": [
    "# **ATRIUM : Import and Data Structure**"
   ]
  },
  {
   "cell_type": "code",
   "execution_count": null,
   "metadata": {},
   "outputs": [],
   "source": [
    "# Import generally used libraries\n",
    "import pandas as pd\n",
    "import numpy as np\n",
    "import matplotlib.pyplot as plt\n",
    "import seaborn as sns\n",
    "\n",
    "from pathlib import Path\n",
    "import glob\n",
    "import os\n",
    "import sys\n",
    "import pickle as pkl\n",
    "import json\n",
    "from tqdm import tqdm\n",
    "\n",
    "## scipy\n",
    "import scipy\n",
    "import scipy.io as io\n",
    "import scipy.signal as signal\n",
    "import scipy.stats as stats"
   ]
  },
  {
   "cell_type": "code",
   "execution_count": null,
   "metadata": {},
   "outputs": [],
   "source": []
  }
 ],
 "metadata": {
  "language_info": {
   "name": "python"
  }
 },
 "nbformat": 4,
 "nbformat_minor": 2
}
